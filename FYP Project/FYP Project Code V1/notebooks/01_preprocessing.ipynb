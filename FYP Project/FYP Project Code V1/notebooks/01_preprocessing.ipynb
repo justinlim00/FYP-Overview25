{
 "cells": [
  {
   "cell_type": "markdown",
   "id": "4644ce00-6b19-49db-bda3-dc0230248fd9",
   "metadata": {},
   "source": [
    "# Preprocessing "
   ]
  },
  {
   "cell_type": "markdown",
   "id": "5b926ced-ea91-4b45-819f-81205a7e633c",
   "metadata": {},
   "source": [
    "## 1.0 Setting up path and generating labels"
   ]
  },
  {
   "cell_type": "code",
   "execution_count": 3,
   "id": "76b144cc-d9f3-48df-b0cd-b6f62338bc7c",
   "metadata": {
    "tags": []
   },
   "outputs": [],
   "source": [
    "# Setup path and import\n",
    "import sys\n",
    "from pathlib import Path\n",
    "sys.path.append(str(Path().resolve().parent))  \n",
    "\n",
    "from src.preprocessing import preprocess_image\n",
    "import pandas as pd\n",
    "from tqdm import tqdm"
   ]
  },
  {
   "cell_type": "markdown",
   "id": "313a26a3-ef18-45b9-9f48-6567ecfab255",
   "metadata": {},
   "source": [
    "### Generate labels.csv from CBIS-DDSM metadata\n",
    "\n",
    "This script consolidates and standardizes metadata from the CBIS-DDSM dataset.\n",
    "It merges mass and calcification case files (train and test sets), encodes the\n",
    "'pathology' column into binary labels (0 = BENIGN, 1 = MALIGNANT), and constructs\n",
    "full relative paths to the JPEG image files. It also renames selected columns for\n",
    "consistency and exports a clean metadata CSV for use in preprocessing and model training.\n",
    "\n",
    "Output:\n",
    "    data/cibs-ddsm/metadata/labels.csv\n",
    "\n",
    "Expected Downstream Use:\n",
    "    - Used in 01_preprocessing.ipynb to locate, enhance, and resize mammograms\n",
    "    - Used to associate labels and metadata with image files for CNN training"
   ]
  },
  {
   "cell_type": "code",
   "execution_count": 4,
   "id": "8104541a-1ad9-43a5-a3aa-b42bc26a7d65",
   "metadata": {
    "tags": []
   },
   "outputs": [
    {
     "name": "stdout",
     "output_type": "stream",
     "text": [
      "✅ labels.csv created at: ../data/cibs-ddsm/metadata/labels.csv\n"
     ]
    }
   ],
   "source": [
    "import pandas as pd\n",
    "from pathlib import Path\n",
    "\n",
    "meta_dir = Path(\"../data/cibs-ddsm/metadata\")\n",
    "output_path = meta_dir / \"labels.csv\"\n",
    "\n",
    "# Load files\n",
    "mass_train = pd.read_csv(meta_dir / \"mass_case_description_train_set.csv\")\n",
    "mass_test = pd.read_csv(meta_dir / \"mass_case_description_test_set.csv\")\n",
    "calc_train = pd.read_csv(meta_dir / \"calc_case_description_train_set.csv\")\n",
    "calc_test = pd.read_csv(meta_dir / \"calc_case_description_test_set.csv\")\n",
    "\n",
    "# Merge all\n",
    "df = pd.concat([mass_train, mass_test, calc_train, calc_test], ignore_index=True)\n",
    "\n",
    "# Label encoding\n",
    "df[\"label\"] = df[\"pathology\"].map(lambda x: 1 if x == \"MALIGNANT\" else 0)\n",
    "\n",
    "# Build image path\n",
    "df[\"image_file_path\"] = \"jpeg/\" + df[\"patient_id\"] + \"/\" + df[\"image file path\"]\n",
    "\n",
    "# Rename columns for consistency\n",
    "df = df.rename(columns={\n",
    "    \"abnormality type\": \"abnormality_type\",\n",
    "    \"image view\": \"view\",\n",
    "    \"left or right breast\": \"laterality\"\n",
    "})\n",
    "\n",
    "# Final column selection\n",
    "df_final = df[[\"image_file_path\", \"label\", \"abnormality_type\", \"view\", \"laterality\", \"patient_id\"]]\n",
    "df_final.to_csv(output_path, index=False)\n",
    "\n",
    "print(f\"✅ labels.csv created at: {output_path}\")"
   ]
  },
  {
   "cell_type": "code",
   "execution_count": 17,
   "id": "e28cfa71-7707-4b2c-ade1-e36300453d8d",
   "metadata": {},
   "outputs": [
    {
     "data": {
      "text/html": [
       "<div>\n",
       "<style scoped>\n",
       "    .dataframe tbody tr th:only-of-type {\n",
       "        vertical-align: middle;\n",
       "    }\n",
       "\n",
       "    .dataframe tbody tr th {\n",
       "        vertical-align: top;\n",
       "    }\n",
       "\n",
       "    .dataframe thead th {\n",
       "        text-align: right;\n",
       "    }\n",
       "</style>\n",
       "<table border=\"1\" class=\"dataframe\">\n",
       "  <thead>\n",
       "    <tr style=\"text-align: right;\">\n",
       "      <th></th>\n",
       "      <th>image_file_path</th>\n",
       "      <th>label</th>\n",
       "      <th>abnormality_type</th>\n",
       "      <th>view</th>\n",
       "      <th>laterality</th>\n",
       "      <th>patient_id</th>\n",
       "    </tr>\n",
       "  </thead>\n",
       "  <tbody>\n",
       "    <tr>\n",
       "      <th>0</th>\n",
       "      <td>P_00001/Mass-Training_P_00001_LEFT_CC/1.3.6.1....</td>\n",
       "      <td>1</td>\n",
       "      <td>mass</td>\n",
       "      <td>CC</td>\n",
       "      <td>LEFT</td>\n",
       "      <td>P_00001</td>\n",
       "    </tr>\n",
       "    <tr>\n",
       "      <th>1</th>\n",
       "      <td>P_00001/Mass-Training_P_00001_LEFT_MLO/1.3.6.1...</td>\n",
       "      <td>1</td>\n",
       "      <td>mass</td>\n",
       "      <td>MLO</td>\n",
       "      <td>LEFT</td>\n",
       "      <td>P_00001</td>\n",
       "    </tr>\n",
       "    <tr>\n",
       "      <th>2</th>\n",
       "      <td>P_00004/Mass-Training_P_00004_LEFT_CC/1.3.6.1....</td>\n",
       "      <td>0</td>\n",
       "      <td>mass</td>\n",
       "      <td>CC</td>\n",
       "      <td>LEFT</td>\n",
       "      <td>P_00004</td>\n",
       "    </tr>\n",
       "    <tr>\n",
       "      <th>3</th>\n",
       "      <td>P_00004/Mass-Training_P_00004_LEFT_MLO/1.3.6.1...</td>\n",
       "      <td>0</td>\n",
       "      <td>mass</td>\n",
       "      <td>MLO</td>\n",
       "      <td>LEFT</td>\n",
       "      <td>P_00004</td>\n",
       "    </tr>\n",
       "    <tr>\n",
       "      <th>4</th>\n",
       "      <td>P_00004/Mass-Training_P_00004_RIGHT_MLO/1.3.6....</td>\n",
       "      <td>0</td>\n",
       "      <td>mass</td>\n",
       "      <td>MLO</td>\n",
       "      <td>RIGHT</td>\n",
       "      <td>P_00004</td>\n",
       "    </tr>\n",
       "  </tbody>\n",
       "</table>\n",
       "</div>"
      ],
      "text/plain": [
       "                                     image_file_path  label abnormality_type  \\\n",
       "0  P_00001/Mass-Training_P_00001_LEFT_CC/1.3.6.1....      1             mass   \n",
       "1  P_00001/Mass-Training_P_00001_LEFT_MLO/1.3.6.1...      1             mass   \n",
       "2  P_00004/Mass-Training_P_00004_LEFT_CC/1.3.6.1....      0             mass   \n",
       "3  P_00004/Mass-Training_P_00004_LEFT_MLO/1.3.6.1...      0             mass   \n",
       "4  P_00004/Mass-Training_P_00004_RIGHT_MLO/1.3.6....      0             mass   \n",
       "\n",
       "  view laterality patient_id  \n",
       "0   CC       LEFT    P_00001  \n",
       "1  MLO       LEFT    P_00001  \n",
       "2   CC       LEFT    P_00004  \n",
       "3  MLO       LEFT    P_00004  \n",
       "4  MLO      RIGHT    P_00004  "
      ]
     },
     "execution_count": 17,
     "metadata": {},
     "output_type": "execute_result"
    }
   ],
   "source": [
    "labels_df = pd.read_csv(\"../data/cibs-ddsm/metadata/labels.csv\")\n",
    "labels_df.head()"
   ]
  },
  {
   "cell_type": "markdown",
   "id": "1a51490c-e60d-4dc9-8969-869cc5b5f68d",
   "metadata": {},
   "source": [
    "### Matching image file name to metadata"
   ]
  },
  {
   "cell_type": "code",
   "execution_count": 25,
   "id": "7c1ad25a-e2ef-4515-8844-eab93f0077fd",
   "metadata": {
    "tags": []
   },
   "outputs": [],
   "source": [
    "from pathlib import Path\n",
    "import pandas as pd\n",
    "\n",
    "labels_df = pd.read_csv(\"../data/cibs-ddsm/metadata/labels.csv\")\n",
    "\n",
    "# Extract last directory (DICOM UID folder)\n",
    "labels_df[\"dicom_uid\"] = labels_df[\"image_file_path\"].apply(lambda x: Path(x).parent.name)"
   ]
  },
  {
   "cell_type": "markdown",
   "id": "f251e35b-e25f-4e7c-b4bd-4244d3d75595",
   "metadata": {},
   "source": [
    "#### Prepare DataFrame for file path matching"
   ]
  },
  {
   "cell_type": "code",
   "execution_count": 26,
   "id": "88e7e09f-b004-4b05-a345-0b84531442e5",
   "metadata": {
    "tags": []
   },
   "outputs": [],
   "source": [
    "image_dir = Path(\"../data/cibs-ddsm/raw\")\n",
    "jpg_paths = list(image_dir.glob(\"*/**/*.jpg\"))\n",
    "\n",
    "image_df = pd.DataFrame({\n",
    "    \"jpg_path\": jpg_paths,\n",
    "    \"dicom_uid\": [p.parent.name for p in jpg_paths]\n",
    "})"
   ]
  },
  {
   "cell_type": "markdown",
   "id": "74868edf-f355-4f6b-867f-9f1d206b00f9",
   "metadata": {},
   "source": [
    "#### Merge metadata with matched image paths"
   ]
  },
  {
   "cell_type": "code",
   "execution_count": 28,
   "id": "51fd8168-3b49-4dbc-90f1-37fd9572b3f9",
   "metadata": {
    "tags": []
   },
   "outputs": [
    {
     "name": "stdout",
     "output_type": "stream",
     "text": [
      "Matched 3568 out of 3568 label entries\n"
     ]
    }
   ],
   "source": [
    "merged = labels_df.merge(image_df, on=\"dicom_uid\", how=\"inner\")\n",
    "print(f\"Matched {len(merged)} out of {len(labels_df)} label entries\")"
   ]
  },
  {
   "cell_type": "code",
   "execution_count": 29,
   "id": "d3cbe360-32a6-45fd-a2db-e7f19cc11cbf",
   "metadata": {
    "tags": []
   },
   "outputs": [],
   "source": [
    "merged = merged.drop(columns=[\"image_file_path\"])  # remove old path\n",
    "merged = merged.rename(columns={\"jpg_path\": \"image_file_path\"})\n",
    "merged.to_csv(\"../data/cibs-ddsm/metadata/labels_resolved.csv\", index=False)"
   ]
  },
  {
   "cell_type": "markdown",
   "id": "7529a2cd-9298-4654-bba6-8bfd60bb1eae",
   "metadata": {
    "tags": []
   },
   "source": [
    "### Cleaned labelled file "
   ]
  },
  {
   "cell_type": "code",
   "execution_count": 31,
   "id": "93dad5be-2fae-4c99-a50c-9a7cbe6ecdb2",
   "metadata": {
    "tags": []
   },
   "outputs": [],
   "source": [
    "labels_df = pd.read_csv(\"../data/cibs-ddsm/metadata/labels_resolved.csv\")"
   ]
  },
  {
   "cell_type": "code",
   "execution_count": 34,
   "id": "bc21e3d1-c32b-415f-b158-72f98e43b57d",
   "metadata": {
    "tags": []
   },
   "outputs": [
    {
     "data": {
      "text/html": [
       "<div>\n",
       "<style scoped>\n",
       "    .dataframe tbody tr th:only-of-type {\n",
       "        vertical-align: middle;\n",
       "    }\n",
       "\n",
       "    .dataframe tbody tr th {\n",
       "        vertical-align: top;\n",
       "    }\n",
       "\n",
       "    .dataframe thead th {\n",
       "        text-align: right;\n",
       "    }\n",
       "</style>\n",
       "<table border=\"1\" class=\"dataframe\">\n",
       "  <thead>\n",
       "    <tr style=\"text-align: right;\">\n",
       "      <th></th>\n",
       "      <th>label</th>\n",
       "      <th>abnormality_type</th>\n",
       "      <th>view</th>\n",
       "      <th>laterality</th>\n",
       "      <th>patient_id</th>\n",
       "      <th>dicom_uid</th>\n",
       "      <th>image_file_path</th>\n",
       "    </tr>\n",
       "  </thead>\n",
       "  <tbody>\n",
       "    <tr>\n",
       "      <th>256</th>\n",
       "      <td>1</td>\n",
       "      <td>mass</td>\n",
       "      <td>MLO</td>\n",
       "      <td>LEFT</td>\n",
       "      <td>P_00383</td>\n",
       "      <td>1.3.6.1.4.1.9590.100.1.2.559685247119091113207...</td>\n",
       "      <td>../data/cibs-ddsm/raw/1.3.6.1.4.1.9590.100.1.2...</td>\n",
       "    </tr>\n",
       "    <tr>\n",
       "      <th>3140</th>\n",
       "      <td>0</td>\n",
       "      <td>calcification</td>\n",
       "      <td>MLO</td>\n",
       "      <td>RIGHT</td>\n",
       "      <td>P_01864</td>\n",
       "      <td>1.3.6.1.4.1.9590.100.1.2.135264260013637742110...</td>\n",
       "      <td>../data/cibs-ddsm/raw/1.3.6.1.4.1.9590.100.1.2...</td>\n",
       "    </tr>\n",
       "    <tr>\n",
       "      <th>2824</th>\n",
       "      <td>0</td>\n",
       "      <td>calcification</td>\n",
       "      <td>MLO</td>\n",
       "      <td>LEFT</td>\n",
       "      <td>P_01437</td>\n",
       "      <td>1.3.6.1.4.1.9590.100.1.2.413719783912934165841...</td>\n",
       "      <td>../data/cibs-ddsm/raw/1.3.6.1.4.1.9590.100.1.2...</td>\n",
       "    </tr>\n",
       "    <tr>\n",
       "      <th>2997</th>\n",
       "      <td>0</td>\n",
       "      <td>calcification</td>\n",
       "      <td>MLO</td>\n",
       "      <td>RIGHT</td>\n",
       "      <td>P_01691</td>\n",
       "      <td>1.3.6.1.4.1.9590.100.1.2.339103214011000787523...</td>\n",
       "      <td>../data/cibs-ddsm/raw/1.3.6.1.4.1.9590.100.1.2...</td>\n",
       "    </tr>\n",
       "    <tr>\n",
       "      <th>1719</th>\n",
       "      <td>0</td>\n",
       "      <td>calcification</td>\n",
       "      <td>MLO</td>\n",
       "      <td>LEFT</td>\n",
       "      <td>P_00011</td>\n",
       "      <td>1.3.6.1.4.1.9590.100.1.2.121177287111311333525...</td>\n",
       "      <td>../data/cibs-ddsm/raw/1.3.6.1.4.1.9590.100.1.2...</td>\n",
       "    </tr>\n",
       "  </tbody>\n",
       "</table>\n",
       "</div>"
      ],
      "text/plain": [
       "      label abnormality_type view laterality patient_id  \\\n",
       "256       1             mass  MLO       LEFT    P_00383   \n",
       "3140      0    calcification  MLO      RIGHT    P_01864   \n",
       "2824      0    calcification  MLO       LEFT    P_01437   \n",
       "2997      0    calcification  MLO      RIGHT    P_01691   \n",
       "1719      0    calcification  MLO       LEFT    P_00011   \n",
       "\n",
       "                                              dicom_uid  \\\n",
       "256   1.3.6.1.4.1.9590.100.1.2.559685247119091113207...   \n",
       "3140  1.3.6.1.4.1.9590.100.1.2.135264260013637742110...   \n",
       "2824  1.3.6.1.4.1.9590.100.1.2.413719783912934165841...   \n",
       "2997  1.3.6.1.4.1.9590.100.1.2.339103214011000787523...   \n",
       "1719  1.3.6.1.4.1.9590.100.1.2.121177287111311333525...   \n",
       "\n",
       "                                        image_file_path  \n",
       "256   ../data/cibs-ddsm/raw/1.3.6.1.4.1.9590.100.1.2...  \n",
       "3140  ../data/cibs-ddsm/raw/1.3.6.1.4.1.9590.100.1.2...  \n",
       "2824  ../data/cibs-ddsm/raw/1.3.6.1.4.1.9590.100.1.2...  \n",
       "2997  ../data/cibs-ddsm/raw/1.3.6.1.4.1.9590.100.1.2...  \n",
       "1719  ../data/cibs-ddsm/raw/1.3.6.1.4.1.9590.100.1.2...  "
      ]
     },
     "execution_count": 34,
     "metadata": {},
     "output_type": "execute_result"
    }
   ],
   "source": [
    "labels_df.sample(5)"
   ]
  },
  {
   "cell_type": "code",
   "execution_count": 35,
   "id": "c0bda64d-cd5e-4d31-990b-e4f0db74dede",
   "metadata": {
    "tags": []
   },
   "outputs": [
    {
     "name": "stdout",
     "output_type": "stream",
     "text": [
      "3568 / 3568 images found\n"
     ]
    }
   ],
   "source": [
    "from pathlib import Path\n",
    "\n",
    "labels_df[\"exists\"] = labels_df[\"image_file_path\"].apply(lambda x: Path(x).exists())\n",
    "print(f\"{labels_df['exists'].sum()} / {len(labels_df)} images found\")"
   ]
  },
  {
   "cell_type": "markdown",
   "id": "7fb91c7a-d7e0-42be-b668-1346c27c8f4e",
   "metadata": {},
   "source": [
    "-------"
   ]
  },
  {
   "cell_type": "markdown",
   "id": "a041a902-e48c-4846-8268-bf5fc6306e66",
   "metadata": {},
   "source": [
    "## 2.0 Image Preprocessing "
   ]
  },
  {
   "cell_type": "markdown",
   "id": "ecf2485f-13cd-43a5-80c1-c1313a611b06",
   "metadata": {},
   "source": [
    "Create output directory for processed images"
   ]
  },
  {
   "cell_type": "code",
   "execution_count": 36,
   "id": "b30673c9-1fc9-43ed-9cc9-e0eac95ce587",
   "metadata": {
    "tags": []
   },
   "outputs": [],
   "source": [
    "processed_dir = Path(\"../data/cibs-ddsm/processed\")\n",
    "processed_dir.mkdir(parents=True, exist_ok=True)"
   ]
  },
  {
   "cell_type": "markdown",
   "id": "3e5bc9ba-32a8-4d8d-83c0-4997045d1710",
   "metadata": {},
   "source": [
    "Define Preprocessing Function"
   ]
  },
  {
   "cell_type": "code",
   "execution_count": 40,
   "id": "afe91d9d-f436-4ba4-8c78-d35c08063333",
   "metadata": {
    "tags": []
   },
   "outputs": [],
   "source": [
    "import cv2\n",
    "from tqdm import tqdm\n",
    "\n",
    "def preprocess_image(img_path, target_size=(224, 224)):\n",
    "    img = cv2.imread(str(img_path), cv2.IMREAD_GRAYSCALE)\n",
    "    if img is None:\n",
    "        return None\n",
    "    clahe = cv2.createCLAHE(clipLimit=2.0, tileGridSize=(8, 8))\n",
    "    img = clahe.apply(img)\n",
    "    img = cv2.resize(img, target_size)\n",
    "    return img"
   ]
  },
  {
   "cell_type": "markdown",
   "id": "42bb6a95-e627-4ace-9b89-e0d8845f8ffb",
   "metadata": {},
   "source": [
    "Process and save images"
   ]
  },
  {
   "cell_type": "code",
   "execution_count": 41,
   "id": "bd5270c5-ab94-4c93-a8ea-5a5eb615ffc3",
   "metadata": {
    "tags": []
   },
   "outputs": [
    {
     "name": "stderr",
     "output_type": "stream",
     "text": [
      "100%|██████████████████████████████████████████████████████████████████████████████████████| 3568/3568 [01:52<00:00, 31.76it/s]\n"
     ]
    }
   ],
   "source": [
    "processed_dir = Path(\"../data/cibs-ddsm/processed\")\n",
    "processed_dir.mkdir(parents=True, exist_ok=True)\n",
    "\n",
    "for _, row in tqdm(labels_df.iterrows(), total=len(labels_df)):\n",
    "    img = preprocess_image(row[\"image_file_path\"])\n",
    "    if img is not None:\n",
    "        out_path = processed_dir / (Path(row[\"image_file_path\"]).name)\n",
    "        cv2.imwrite(str(out_path), img)"
   ]
  },
  {
   "cell_type": "code",
   "execution_count": 43,
   "id": "22cbf45a-a0c1-49d7-b94c-c85ab3292682",
   "metadata": {
    "tags": []
   },
   "outputs": [
    {
     "name": "stdout",
     "output_type": "stream",
     "text": [
      "Saved updated meta.csv with processed image paths.\n"
     ]
    }
   ],
   "source": [
    "labels_df[\"processed_path\"] = labels_df[\"image_file_path\"].apply(\n",
    "    lambda x: str(processed_dir / Path(x).name)\n",
    ")\n",
    "labels_df.to_csv(\"../data/cibs-ddsm/metadata/meta.csv\", index=False)\n",
    "print(\"Saved updated meta.csv with processed image paths.\")"
   ]
  }
 ],
 "metadata": {
  "kernelspec": {
   "display_name": "Python 3 (ipykernel)",
   "language": "python",
   "name": "python3"
  },
  "language_info": {
   "codemirror_mode": {
    "name": "ipython",
    "version": 3
   },
   "file_extension": ".py",
   "mimetype": "text/x-python",
   "name": "python",
   "nbconvert_exporter": "python",
   "pygments_lexer": "ipython3",
   "version": "3.11.5"
  }
 },
 "nbformat": 4,
 "nbformat_minor": 5
}
