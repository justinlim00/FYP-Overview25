{
 "cells": [
  {
   "cell_type": "markdown",
   "id": "93e6366c-84ca-43a4-91f5-ee80dc6c93ba",
   "metadata": {},
   "source": [
    "# Model Training"
   ]
  },
  {
   "cell_type": "markdown",
   "id": "7857bb42-ee62-4129-b9b1-d11d734b7e65",
   "metadata": {},
   "source": [
    "### Import Libraries & Load Metadata"
   ]
  },
  {
   "cell_type": "code",
   "execution_count": 12,
   "id": "5123400e-0149-49e1-a6e7-b4378ae2acd3",
   "metadata": {
    "tags": []
   },
   "outputs": [],
   "source": [
    "import pandas as pd\n",
    "import numpy as np\n",
    "from sklearn.model_selection import train_test_split\n",
    "from pathlib import Path\n",
    "import cv2\n",
    "from tensorflow.keras.utils import to_categorical"
   ]
  },
  {
   "cell_type": "code",
   "execution_count": 13,
   "id": "552023ae-f075-4dfd-9337-d9e269e47a08",
   "metadata": {
    "tags": []
   },
   "outputs": [],
   "source": [
    "meta_path = \"../data/cibs-ddsm/metadata/meta.csv\"\n",
    "df = pd.read_csv(meta_path)"
   ]
  },
  {
   "cell_type": "markdown",
   "id": "d41179b1-bee2-4d19-92f0-9d06a1a7aba2",
   "metadata": {},
   "source": [
    "### Load Images into Memory"
   ]
  },
  {
   "cell_type": "code",
   "execution_count": 14,
   "id": "a27e1487-43c5-4588-82a1-4e5efcb64ccf",
   "metadata": {
    "tags": []
   },
   "outputs": [],
   "source": [
    "def load_images(df, size=(224, 224)):\n",
    "    X, y = [], []\n",
    "    for _, row in df.iterrows():\n",
    "        img = cv2.imread(row[\"processed_path\"], cv2.IMREAD_GRAYSCALE)\n",
    "        if img is not None:\n",
    "            X.append(img)\n",
    "            y.append(row[\"label\"])\n",
    "    X = np.array(X)[..., np.newaxis] / 255.0  \n",
    "    y = np.array(y)\n",
    "    return X, y"
   ]
  },
  {
   "cell_type": "markdown",
   "id": "fe109842-7c95-42cf-b400-65457885f93e",
   "metadata": {},
   "source": [
    "### Split dataset"
   ]
  },
  {
   "cell_type": "code",
   "execution_count": 15,
   "id": "f6567497-f9b6-41ad-91d2-f1f655ae9dd1",
   "metadata": {
    "tags": []
   },
   "outputs": [],
   "source": [
    "train_df, test_df = train_test_split(df, test_size=0.2, stratify=df[\"label\"], random_state=42)\n",
    "X_train, y_train = load_images(train_df)\n",
    "X_test, y_test = load_images(test_df)"
   ]
  },
  {
   "cell_type": "markdown",
   "id": "e5f123d7-20a0-48de-affb-9438187cc870",
   "metadata": {},
   "source": [
    "### Build CNN Model with Augmentation"
   ]
  },
  {
   "cell_type": "markdown",
   "id": "920379cf-5050-4465-a96f-1fdb6f09aff9",
   "metadata": {},
   "source": [
    "### Batch normalisation "
   ]
  },
  {
   "cell_type": "code",
   "execution_count": 19,
   "id": "15440789-068d-41a4-a09d-309bdc7fd1fa",
   "metadata": {
    "tags": []
   },
   "outputs": [],
   "source": [
    "from tensorflow.keras.models import Sequential\n",
    "from tensorflow.keras.layers import (Input, Conv2D, MaxPooling2D, Flatten,\n",
    "                                     Dense, Dropout, RandomFlip,\n",
    "                                     RandomRotation, RandomZoom)\n",
    "\n",
    "model = Sequential([\n",
    "    Input(shape=(224, 224, 1)), \n",
    "    RandomFlip(\"horizontal\"),\n",
    "    RandomRotation(0.1),\n",
    "    RandomZoom(0.1),\n",
    "    Conv2D(32, (3, 3), activation=\"relu\"),\n",
    "    MaxPooling2D(),\n",
    "    Conv2D(64, (3, 3), activation=\"relu\"),\n",
    "    MaxPooling2D(),\n",
    "    Flatten(),\n",
    "    Dense(128, activation=\"relu\"),\n",
    "    Dropout(0.5),\n",
    "    Dense(1, activation=\"sigmoid\")\n",
    "])"
   ]
  },
  {
   "cell_type": "code",
   "execution_count": 20,
   "id": "3d72f1f2-0ecb-4ada-89af-5f442be727db",
   "metadata": {
    "tags": []
   },
   "outputs": [],
   "source": [
    "model.compile(\n",
    "    optimizer=\"adam\",\n",
    "    loss=\"binary_crossentropy\",\n",
    "    metrics=[\"accuracy\"]\n",
    ")"
   ]
  },
  {
   "cell_type": "markdown",
   "id": "508e1050-b6b9-49c6-978d-92ae4f4135b0",
   "metadata": {},
   "source": [
    "## Check for label distribution"
   ]
  },
  {
   "cell_type": "code",
   "execution_count": 21,
   "id": "554b43cf-d184-4db4-ac87-153cba66a371",
   "metadata": {
    "tags": []
   },
   "outputs": [
    {
     "data": {
      "text/plain": [
       "label\n",
       "0    2111\n",
       "1    1457\n",
       "Name: count, dtype: int64"
      ]
     },
     "execution_count": 21,
     "metadata": {},
     "output_type": "execute_result"
    }
   ],
   "source": [
    "import pandas as pd\n",
    "df = pd.read_csv(\"../data/cibs-ddsm/metadata/labels_resolved.csv\")\n",
    "df[\"label\"].value_counts()"
   ]
  },
  {
   "cell_type": "markdown",
   "id": "0d0fa12d-1f1f-4fc3-8a66-bce1d6bed2f3",
   "metadata": {},
   "source": [
    "## Calculate Class Weights"
   ]
  },
  {
   "cell_type": "code",
   "execution_count": 22,
   "id": "0f09d6df-91b5-488c-9252-d1bdc47dd44f",
   "metadata": {
    "tags": []
   },
   "outputs": [],
   "source": [
    "from sklearn.utils import class_weight\n",
    "import numpy as np\n",
    "\n",
    "# Ensure labels are NumPy arrays\n",
    "y_train = np.array(y_train)\n",
    "\n",
    "# Compute class weights\n",
    "class_weights = class_weight.compute_class_weight(\n",
    "    class_weight=\"balanced\",\n",
    "    classes=np.unique(y_train),\n",
    "    y=y_train\n",
    ")\n",
    "class_weights = dict(enumerate(class_weights))"
   ]
  },
  {
   "cell_type": "code",
   "execution_count": 23,
   "id": "a56c10a7-fc42-4278-bcd1-c47ced048723",
   "metadata": {
    "tags": []
   },
   "outputs": [
    {
     "name": "stdout",
     "output_type": "stream",
     "text": [
      "Epoch 1/10\n",
      "\u001b[1m72/72\u001b[0m \u001b[32m━━━━━━━━━━━━━━━━━━━━\u001b[0m\u001b[37m\u001b[0m \u001b[1m17s\u001b[0m 231ms/step - accuracy: 0.5140 - loss: 0.9150 - val_accuracy: 0.4641 - val_loss: 0.6931\n",
      "Epoch 2/10\n",
      "\u001b[1m72/72\u001b[0m \u001b[32m━━━━━━━━━━━━━━━━━━━━\u001b[0m\u001b[37m\u001b[0m \u001b[1m16s\u001b[0m 225ms/step - accuracy: 0.4740 - loss: 0.6900 - val_accuracy: 0.4448 - val_loss: 0.6942\n",
      "Epoch 3/10\n",
      "\u001b[1m72/72\u001b[0m \u001b[32m━━━━━━━━━━━━━━━━━━━━\u001b[0m\u001b[37m\u001b[0m \u001b[1m17s\u001b[0m 232ms/step - accuracy: 0.4762 - loss: 0.6922 - val_accuracy: 0.4203 - val_loss: 0.6942\n",
      "Epoch 4/10\n",
      "\u001b[1m72/72\u001b[0m \u001b[32m━━━━━━━━━━━━━━━━━━━━\u001b[0m\u001b[37m\u001b[0m \u001b[1m16s\u001b[0m 227ms/step - accuracy: 0.4735 - loss: 0.6899 - val_accuracy: 0.5131 - val_loss: 0.6929\n",
      "Epoch 5/10\n",
      "\u001b[1m72/72\u001b[0m \u001b[32m━━━━━━━━━━━━━━━━━━━━\u001b[0m\u001b[37m\u001b[0m \u001b[1m16s\u001b[0m 228ms/step - accuracy: 0.4806 - loss: 0.6935 - val_accuracy: 0.5744 - val_loss: 0.6918\n",
      "Epoch 6/10\n",
      "\u001b[1m72/72\u001b[0m \u001b[32m━━━━━━━━━━━━━━━━━━━━\u001b[0m\u001b[37m\u001b[0m \u001b[1m16s\u001b[0m 228ms/step - accuracy: 0.5417 - loss: 0.6938 - val_accuracy: 0.5902 - val_loss: 0.6911\n",
      "Epoch 7/10\n",
      "\u001b[1m72/72\u001b[0m \u001b[32m━━━━━━━━━━━━━━━━━━━━\u001b[0m\u001b[37m\u001b[0m \u001b[1m16s\u001b[0m 223ms/step - accuracy: 0.5289 - loss: 0.6929 - val_accuracy: 0.5377 - val_loss: 0.6913\n",
      "Epoch 8/10\n",
      "\u001b[1m72/72\u001b[0m \u001b[32m━━━━━━━━━━━━━━━━━━━━\u001b[0m\u001b[37m\u001b[0m \u001b[1m16s\u001b[0m 223ms/step - accuracy: 0.5239 - loss: 0.6929 - val_accuracy: 0.4746 - val_loss: 0.6930\n",
      "Epoch 9/10\n",
      "\u001b[1m72/72\u001b[0m \u001b[32m━━━━━━━━━━━━━━━━━━━━\u001b[0m\u001b[37m\u001b[0m \u001b[1m16s\u001b[0m 223ms/step - accuracy: 0.5138 - loss: 0.6937 - val_accuracy: 0.5762 - val_loss: 0.6907\n",
      "Epoch 10/10\n",
      "\u001b[1m72/72\u001b[0m \u001b[32m━━━━━━━━━━━━━━━━━━━━\u001b[0m\u001b[37m\u001b[0m \u001b[1m17s\u001b[0m 232ms/step - accuracy: 0.5661 - loss: 0.6896 - val_accuracy: 0.5657 - val_loss: 0.6912\n"
     ]
    }
   ],
   "source": [
    "history = model.fit(\n",
    "    X_train, y_train,\n",
    "    validation_split=0.2,\n",
    "    epochs=10,\n",
    "    batch_size=32,\n",
    "    class_weight=class_weights\n",
    ")"
   ]
  },
  {
   "cell_type": "code",
   "execution_count": 29,
   "id": "6e25e2af-d8f1-487d-abbc-11a8da48ec62",
   "metadata": {
    "tags": []
   },
   "outputs": [
    {
     "name": "stdout",
     "output_type": "stream",
     "text": [
      "\u001b[1m23/23\u001b[0m \u001b[32m━━━━━━━━━━━━━━━━━━━━\u001b[0m\u001b[37m\u001b[0m \u001b[1m1s\u001b[0m 49ms/step - accuracy: 0.5781 - loss: 0.6927\n"
     ]
    },
    {
     "name": "stderr",
     "output_type": "stream",
     "text": [
      "WARNING:absl:You are saving your model as an HDF5 file via `model.save()` or `keras.saving.save_model(model)`. This file format is considered legacy. We recommend using instead the native Keras format, e.g. `model.save('my_model.keras')` or `keras.saving.save_model(model, 'my_model.keras')`. \n"
     ]
    },
    {
     "name": "stdout",
     "output_type": "stream",
     "text": [
      "Test Accuracy: 0.5756\n"
     ]
    }
   ],
   "source": [
    "test_loss, test_acc = model.evaluate(X_test, y_test)\n",
    "print(f\"Test Accuracy: {test_acc:.4f}\")\n",
    "model.save(\"../results/model_weights/final_model.h5\")"
   ]
  },
  {
   "cell_type": "code",
   "execution_count": 30,
   "id": "b646e4f4-06b8-4468-bb77-fc5ca6ac94ee",
   "metadata": {
    "tags": []
   },
   "outputs": [
    {
     "name": "stderr",
     "output_type": "stream",
     "text": [
      "WARNING:absl:You are saving your model as an HDF5 file via `model.save()` or `keras.saving.save_model(model)`. This file format is considered legacy. We recommend using instead the native Keras format, e.g. `model.save('my_model.keras')` or `keras.saving.save_model(model, 'my_model.keras')`. \n"
     ]
    }
   ],
   "source": [
    "Path(\"results/model_weights\").mkdir(parents=True, exist_ok=True)\n",
    "model.save(\"results/model_weights/final_model.h5\")"
   ]
  },
  {
   "cell_type": "code",
   "execution_count": 25,
   "id": "efcdd5b0-0818-4672-a0c9-5d0e5c984504",
   "metadata": {
    "tags": []
   },
   "outputs": [
    {
     "name": "stdout",
     "output_type": "stream",
     "text": [
      "\u001b[1m23/23\u001b[0m \u001b[32m━━━━━━━━━━━━━━━━━━━━\u001b[0m\u001b[37m\u001b[0m \u001b[1m1s\u001b[0m 48ms/step\n",
      "              precision    recall  f1-score   support\n",
      "\n",
      "      Benign       0.59      0.94      0.72       422\n",
      "   Malignant       0.37      0.05      0.09       292\n",
      "\n",
      "    accuracy                           0.58       714\n",
      "   macro avg       0.48      0.49      0.41       714\n",
      "weighted avg       0.50      0.58      0.46       714\n",
      "\n",
      "ROC AUC Score: 0.4749\n"
     ]
    }
   ],
   "source": [
    "from sklearn.metrics import classification_report, roc_auc_score\n",
    "import numpy as np\n",
    "\n",
    "# Get predicted probabilities\n",
    "y_probs = model.predict(X_test)\n",
    "\n",
    "# Convert probabilities to binary predictions\n",
    "y_pred = (y_probs > 0.5).astype(int)\n",
    "\n",
    "# 1. Classification report: precision, recall, f1-score, accuracy\n",
    "print(classification_report(y_test, y_pred, target_names=[\"Benign\", \"Malignant\"]))\n",
    "\n",
    "# 2. ROC-AUC score (based on raw probabilities, not thresholded)\n",
    "auc = roc_auc_score(y_test, y_probs)\n",
    "print(f\"ROC AUC Score: {auc:.4f}\")"
   ]
  },
  {
   "cell_type": "code",
   "execution_count": 26,
   "id": "af57e1e4-09b2-4565-b779-a5f897b6a19a",
   "metadata": {},
   "outputs": [
    {
     "name": "stdout",
     "output_type": "stream",
     "text": [
      "\u001b[1m23/23\u001b[0m \u001b[32m━━━━━━━━━━━━━━━━━━━━\u001b[0m\u001b[37m\u001b[0m \u001b[1m1s\u001b[0m 47ms/step\n",
      "[[396  26]\n",
      " [277  15]]\n",
      "              precision    recall  f1-score   support\n",
      "\n",
      "           0       0.59      0.94      0.72       422\n",
      "           1       0.37      0.05      0.09       292\n",
      "\n",
      "    accuracy                           0.58       714\n",
      "   macro avg       0.48      0.49      0.41       714\n",
      "weighted avg       0.50      0.58      0.46       714\n",
      "\n"
     ]
    },
    {
     "data": {
      "image/png": "[encoded data removed]",
      "text/plain": [
       "<Figure size 640x480 with 1 Axes>"
      ]
     },
     "metadata": {},
     "output_type": "display_data"
    },
    {
     "name": "stdout",
     "output_type": "stream",
     "text": [
      "ROC AUC Score: 0.4748709666947997\n"
     ]
    }
   ],
   "source": [
    "from sklearn.metrics import classification_report, confusion_matrix, roc_auc_score, roc_curve\n",
    "import matplotlib.pyplot as plt\n",
    "\n",
    "y_pred_probs = model.predict(X_test).ravel()\n",
    "y_pred = (y_pred_probs > 0.5).astype(int)\n",
    "\n",
    "# Confusion Matrix\n",
    "print(confusion_matrix(y_test, y_pred))\n",
    "print(classification_report(y_test, y_pred))\n",
    "\n",
    "# ROC Curve\n",
    "fpr, tpr, _ = roc_curve(y_test, y_pred_probs)\n",
    "plt.plot(fpr, tpr, label=\"ROC Curve\")\n",
    "plt.xlabel(\"False Positive Rate\")\n",
    "plt.ylabel(\"True Positive Rate\")\n",
    "plt.title(\"ROC Curve\")\n",
    "plt.legend()\n",
    "plt.show()\n",
    "\n",
    "print(\"ROC AUC Score:\", roc_auc_score(y_test, y_pred_probs))"
   ]
  },
  {
   "cell_type": "code",
   "execution_count": null,
   "id": "de63d038-52f9-4083-93fb-4420ff73250c",
   "metadata": {},
   "outputs": [],
   "source": []
  }
 ],
 "metadata": {
  "kernelspec": {
   "display_name": "Python 3 (ipykernel)",
   "language": "python",
   "name": "python3"
  },
  "language_info": {
   "codemirror_mode": {
    "name": "ipython",
    "version": 3
   },
   "file_extension": ".py",
   "mimetype": "text/x-python",
   "name": "python",
   "nbconvert_exporter": "python",
   "pygments_lexer": "ipython3",
   "version": "3.11.5"
  }
 },
 "nbformat": 4,
 "nbformat_minor": 5
}
