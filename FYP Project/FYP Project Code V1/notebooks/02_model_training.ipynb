{
 "cells": [
  {
   "cell_type": "markdown",
   "id": "93e6366c-84ca-43a4-91f5-ee80dc6c93ba",
   "metadata": {},
   "source": [
    "# Model Training"
   ]
  },
  {
   "cell_type": "markdown",
   "id": "7857bb42-ee62-4129-b9b1-d11d734b7e65",
   "metadata": {},
   "source": [
    "### Import Libraries & Load Metadata"
   ]
  },
  {
   "cell_type": "code",
   "execution_count": 91,
   "id": "5123400e-0149-49e1-a6e7-b4378ae2acd3",
   "metadata": {
    "tags": []
   },
   "outputs": [],
   "source": [
    "import pandas as pd\n",
    "import numpy as np\n",
    "from sklearn.model_selection import train_test_split\n",
    "from pathlib import Path\n",
    "import cv2\n",
    "from tensorflow.keras.utils import to_categorical\n",
    "import tensorflow as tf\n",
    "import tensorflow.keras.backend as K"
   ]
  },
  {
   "cell_type": "code",
   "execution_count": 92,
   "id": "552023ae-f075-4dfd-9337-d9e269e47a08",
   "metadata": {
    "tags": []
   },
   "outputs": [],
   "source": [
    "meta_path = \"../data/cibs-ddsm/metadata/meta.csv\"\n",
    "df = pd.read_csv(meta_path)"
   ]
  },
  {
   "cell_type": "markdown",
   "id": "d41179b1-bee2-4d19-92f0-9d06a1a7aba2",
   "metadata": {},
   "source": [
    "### Load Images into Memory"
   ]
  },
  {
   "cell_type": "code",
   "execution_count": 93,
   "id": "a27e1487-43c5-4588-82a1-4e5efcb64ccf",
   "metadata": {
    "tags": []
   },
   "outputs": [],
   "source": [
    "def load_images(df, size=(224, 224)):\n",
    "    X, y = [], []\n",
    "    for _, row in df.iterrows():\n",
    "        img = cv2.imread(row[\"processed_path\"], cv2.IMREAD_GRAYSCALE)\n",
    "        if img is not None:\n",
    "            X.append(img)\n",
    "            y.append(row[\"label\"])\n",
    "    X = np.array(X)[..., np.newaxis] / 255.0  \n",
    "    y = np.array(y)\n",
    "    return X, y"
   ]
  },
  {
   "cell_type": "code",
   "execution_count": 94,
   "id": "1999ca9f-d626-4f65-9b1b-54b88c2e9908",
   "metadata": {
    "tags": []
   },
   "outputs": [],
   "source": [
    "y_train = y_train.reshape(-1, 1)\n",
    "y_val = y_val.reshape(-1, 1)\n",
    "y_test = y_test.reshape(-1, 1)"
   ]
  },
  {
   "cell_type": "markdown",
   "id": "fe109842-7c95-42cf-b400-65457885f93e",
   "metadata": {},
   "source": [
    "### Split dataset"
   ]
  },
  {
   "cell_type": "code",
   "execution_count": 95,
   "id": "f6567497-f9b6-41ad-91d2-f1f655ae9dd1",
   "metadata": {
    "tags": []
   },
   "outputs": [],
   "source": [
    "train_df, test_df = train_test_split(df, test_size=0.2, stratify=df[\"label\"], random_state=42)\n",
    "X_train, y_train = load_images(train_df)\n",
    "X_test, y_test = load_images(test_df)"
   ]
  },
  {
   "cell_type": "markdown",
   "id": "e5f123d7-20a0-48de-affb-9438187cc870",
   "metadata": {},
   "source": [
    "### Build CNN Model with Augmentation"
   ]
  },
  {
   "cell_type": "markdown",
   "id": "920379cf-5050-4465-a96f-1fdb6f09aff9",
   "metadata": {},
   "source": [
    "### Batch normalisation "
   ]
  },
  {
   "cell_type": "code",
   "execution_count": 96,
   "id": "15440789-068d-41a4-a09d-309bdc7fd1fa",
   "metadata": {
    "tags": []
   },
   "outputs": [],
   "source": [
    "from tensorflow.keras.models import Sequential\n",
    "from tensorflow.keras.layers import (Input, Conv2D, MaxPooling2D, Flatten,\n",
    "                                     Dense, Dropout, RandomFlip,\n",
    "                                     RandomRotation, RandomZoom)\n",
    "\n",
    "model = Sequential([\n",
    "    Input(shape=(224, 224, 1)), \n",
    "    RandomFlip(\"horizontal\"),\n",
    "    RandomRotation(0.1),\n",
    "    RandomZoom(0.1),\n",
    "    Conv2D(32, (3, 3), activation=\"relu\"),\n",
    "    MaxPooling2D(),\n",
    "    Conv2D(64, (3, 3), activation=\"relu\"),\n",
    "    MaxPooling2D(),\n",
    "    Flatten(),\n",
    "    Dense(128, activation=\"relu\"),\n",
    "    Dropout(0.5),\n",
    "    Dense(1, activation=\"sigmoid\")\n",
    "])"
   ]
  },
  {
   "cell_type": "code",
   "execution_count": 97,
   "id": "62c0481e-cfea-43ef-a078-12dd86699aad",
   "metadata": {
    "tags": []
   },
   "outputs": [],
   "source": [
    "def focal_loss(alpha=0.25, gamma=2.0):\n",
    "    def focal_loss_fixed(y_true, y_pred):\n",
    "        eps = K.epsilon()\n",
    "        y_pred = K.clip(y_pred, eps, 1. - eps)\n",
    "        pt = tf.where(K.equal(y_true, 1), y_pred, 1 - y_pred)\n",
    "        return -K.mean(alpha * K.pow(1. - pt, gamma) * K.log(pt))\n",
    "    return focal_loss_fixed"
   ]
  },
  {
   "cell_type": "code",
   "execution_count": 98,
   "id": "3d72f1f2-0ecb-4ada-89af-5f442be727db",
   "metadata": {
    "tags": []
   },
   "outputs": [],
   "source": [
    "from tensorflow.keras.metrics import AUC\n",
    "\n",
    "model.compile(\n",
    "    optimizer='adam',\n",
    "    loss='binary_crossentropy',\n",
    "    metrics=['accuracy', tf.keras.metrics.AUC(name='auc')]\n",
    ")"
   ]
  },
  {
   "cell_type": "markdown",
   "id": "508e1050-b6b9-49c6-978d-92ae4f4135b0",
   "metadata": {},
   "source": [
    "## Check for label distribution"
   ]
  },
  {
   "cell_type": "code",
   "execution_count": 99,
   "id": "554b43cf-d184-4db4-ac87-153cba66a371",
   "metadata": {
    "tags": []
   },
   "outputs": [
    {
     "data": {
      "text/plain": [
       "label\n",
       "0    2111\n",
       "1    1457\n",
       "Name: count, dtype: int64"
      ]
     },
     "execution_count": 99,
     "metadata": {},
     "output_type": "execute_result"
    }
   ],
   "source": [
    "import pandas as pd\n",
    "df = pd.read_csv(\"../data/cibs-ddsm/metadata/labels_resolved.csv\")\n",
    "df[\"label\"].value_counts()"
   ]
  },
  {
   "cell_type": "code",
   "execution_count": 100,
   "id": "18e71ead-4708-4d46-af13-96e1f079e638",
   "metadata": {
    "tags": []
   },
   "outputs": [
    {
     "name": "stdout",
     "output_type": "stream",
     "text": [
      "{0: 1689, 1: 1165}\n"
     ]
    }
   ],
   "source": [
    "unique, counts = np.unique(y_train, return_counts=True)\n",
    "print(dict(zip(unique, counts)))"
   ]
  },
  {
   "cell_type": "markdown",
   "id": "0d0fa12d-1f1f-4fc3-8a66-bce1d6bed2f3",
   "metadata": {},
   "source": [
    "## Calculate Class Weights"
   ]
  },
  {
   "cell_type": "code",
   "execution_count": 101,
   "id": "0f09d6df-91b5-488c-9252-d1bdc47dd44f",
   "metadata": {
    "tags": []
   },
   "outputs": [],
   "source": [
    "from sklearn.utils.class_weight import compute_class_weight\n",
    "\n",
    "class_weights_array = compute_class_weight(\n",
    "    class_weight='balanced',\n",
    "    classes=np.unique(y_train.flatten()),\n",
    "    y=y_train.flatten()\n",
    ")\n",
    "class_weights = dict(enumerate(class_weights_array))"
   ]
  },
  {
   "cell_type": "markdown",
   "id": "20a30d9e-77ff-4bd2-abec-76b7b08821ab",
   "metadata": {},
   "source": [
    "### Add early stopping"
   ]
  },
  {
   "cell_type": "code",
   "execution_count": 102,
   "id": "7bee45fb-270b-422c-b7f7-e8abc903539a",
   "metadata": {
    "tags": []
   },
   "outputs": [],
   "source": [
    "from tensorflow.keras.callbacks import EarlyStopping\n",
    "\n",
    "early_stop = EarlyStopping(monitor='val_auc', patience=5, restore_best_weights=True, mode='max')"
   ]
  },
  {
   "cell_type": "code",
   "execution_count": 103,
   "id": "75d7f0ac-e260-41c3-94a5-dd64f6c61448",
   "metadata": {
    "tags": []
   },
   "outputs": [],
   "source": [
    "from sklearn.model_selection import train_test_split\n",
    "\n",
    "X_train, X_val, y_train, y_val = train_test_split(\n",
    "    X_train, y_train, test_size=0.2, stratify=y_train, random_state=42\n",
    ")"
   ]
  },
  {
   "cell_type": "code",
   "execution_count": 104,
   "id": "de64a7a0-a7ce-4545-a24b-4eb3b96ad4a5",
   "metadata": {
    "tags": []
   },
   "outputs": [],
   "source": [
    "y_train = y_train.ravel()\n",
    "y_val = y_val.ravel()\n",
    "y_test = y_test.ravel()"
   ]
  },
  {
   "cell_type": "code",
   "execution_count": 105,
   "id": "a96135d8-5651-40ab-86ed-1d17c83330f3",
   "metadata": {
    "tags": []
   },
   "outputs": [
    {
     "name": "stdout",
     "output_type": "stream",
     "text": [
      "(2283, 224, 224, 1) (2283,)\n"
     ]
    }
   ],
   "source": [
    "print(X_train.shape, y_train.shape)"
   ]
  },
  {
   "cell_type": "code",
   "execution_count": 106,
   "id": "a56c10a7-fc42-4278-bcd1-c47ced048723",
   "metadata": {
    "tags": []
   },
   "outputs": [
    {
     "name": "stdout",
     "output_type": "stream",
     "text": [
      "Epoch 1/30\n",
      "\u001b[1m72/72\u001b[0m \u001b[32m━━━━━━━━━━━━━━━━━━━━\u001b[0m\u001b[37m\u001b[0m \u001b[1m17s\u001b[0m 227ms/step - accuracy: 0.4489 - auc: 0.4742 - loss: 1.0748 - val_accuracy: 0.5919 - val_auc: 0.4852 - val_loss: 0.6841\n",
      "Epoch 2/30\n",
      "\u001b[1m72/72\u001b[0m \u001b[32m━━━━━━━━━━━━━━━━━━━━\u001b[0m\u001b[37m\u001b[0m \u001b[1m16s\u001b[0m 223ms/step - accuracy: 0.5517 - auc: 0.4889 - loss: 0.6960 - val_accuracy: 0.4448 - val_auc: 0.5093 - val_loss: 0.6933\n",
      "Epoch 3/30\n",
      "\u001b[1m72/72\u001b[0m \u001b[32m━━━━━━━━━━━━━━━━━━━━\u001b[0m\u001b[37m\u001b[0m \u001b[1m16s\u001b[0m 223ms/step - accuracy: 0.4255 - auc: 0.5062 - loss: 0.6921 - val_accuracy: 0.4431 - val_auc: 0.4988 - val_loss: 0.6932\n",
      "Epoch 4/30\n",
      "\u001b[1m72/72\u001b[0m \u001b[32m━━━━━━━━━━━━━━━━━━━━\u001b[0m\u001b[37m\u001b[0m \u001b[1m16s\u001b[0m 222ms/step - accuracy: 0.4604 - auc: 0.4785 - loss: 0.6919 - val_accuracy: 0.4186 - val_auc: 0.4957 - val_loss: 0.6935\n",
      "Epoch 5/30\n",
      "\u001b[1m72/72\u001b[0m \u001b[32m━━━━━━━━━━━━━━━━━━━━\u001b[0m\u001b[37m\u001b[0m \u001b[1m16s\u001b[0m 221ms/step - accuracy: 0.4182 - auc: 0.4984 - loss: 0.6930 - val_accuracy: 0.5061 - val_auc: 0.4839 - val_loss: 0.6930\n",
      "Epoch 6/30\n",
      "\u001b[1m72/72\u001b[0m \u001b[32m━━━━━━━━━━━━━━━━━━━━\u001b[0m\u001b[37m\u001b[0m \u001b[1m16s\u001b[0m 223ms/step - accuracy: 0.4941 - auc: 0.5035 - loss: 0.6939 - val_accuracy: 0.4641 - val_auc: 0.4722 - val_loss: 0.6930\n",
      "Epoch 7/30\n",
      "\u001b[1m72/72\u001b[0m \u001b[32m━━━━━━━━━━━━━━━━━━━━\u001b[0m\u001b[37m\u001b[0m \u001b[1m16s\u001b[0m 221ms/step - accuracy: 0.5047 - auc: 0.5131 - loss: 0.6908 - val_accuracy: 0.5762 - val_auc: 0.4875 - val_loss: 0.6904\n"
     ]
    },
    {
     "data": {
      "text/plain": [
       "<keras.src.callbacks.history.History at 0x38bfc7890>"
      ]
     },
     "execution_count": 106,
     "metadata": {},
     "output_type": "execute_result"
    }
   ],
   "source": [
    "model.fit(\n",
    "    X_train, y_train,\n",
    "    validation_data=(X_val, y_val),\n",
    "    epochs=30,\n",
    "    batch_size=32,\n",
    "    class_weight=class_weights,\n",
    "    callbacks=[early_stop]\n",
    ")"
   ]
  },
  {
   "cell_type": "code",
   "execution_count": 107,
   "id": "6e25e2af-d8f1-487d-abbc-11a8da48ec62",
   "metadata": {
    "tags": []
   },
   "outputs": [
    {
     "name": "stdout",
     "output_type": "stream",
     "text": [
      "\u001b[1m23/23\u001b[0m \u001b[32m━━━━━━━━━━━━━━━━━━━━\u001b[0m\u001b[37m\u001b[0m \u001b[1m1s\u001b[0m 47ms/step - accuracy: 0.4513 - auc: 0.4810 - loss: 0.6935\n"
     ]
    },
    {
     "name": "stderr",
     "output_type": "stream",
     "text": [
      "WARNING:absl:You are saving your model as an HDF5 file via `model.save()` or `keras.saving.save_model(model)`. This file format is considered legacy. We recommend using instead the native Keras format, e.g. `model.save('my_model.keras')` or `keras.saving.save_model(model, 'my_model.keras')`. \n"
     ]
    },
    {
     "name": "stdout",
     "output_type": "stream",
     "text": [
      "Test Loss: 0.6932\n",
      "Test Accuracy: 0.4776\n",
      "Test AUC: 0.4993\n"
     ]
    }
   ],
   "source": [
    "results = model.evaluate(X_test, y_test, return_dict=True)\n",
    "print(f\"Test Loss: {results['loss']:.4f}\")\n",
    "print(f\"Test Accuracy: {results['accuracy']:.4f}\")\n",
    "print(f\"Test AUC: {results['auc']:.4f}\")\n",
    "model.save(\"../results/model_weights/final_model.h5\")"
   ]
  },
  {
   "cell_type": "code",
   "execution_count": 108,
   "id": "0c224b76-1262-48aa-a8b5-0b1079e2a213",
   "metadata": {
    "tags": []
   },
   "outputs": [],
   "source": [
    "X_test_rgb = np.repeat(X_test, 3, axis=-1)"
   ]
  },
  {
   "cell_type": "code",
   "execution_count": 112,
   "id": "8c313253-e9b8-45f2-a30c-5d9c1222b319",
   "metadata": {
    "tags": []
   },
   "outputs": [
    {
     "name": "stdout",
     "output_type": "stream",
     "text": [
      "Keras AUC (manual): 0.5016\n",
      "sklearn AUC: 0.4959\n"
     ]
    }
   ],
   "source": [
    "from tensorflow.keras.metrics import AUC\n",
    "\n",
    "metric_auc = AUC()\n",
    "metric_auc.update_state(y_test, y_probs)\n",
    "print(f\"Keras AUC (manual): {metric_auc.result().numpy():.4f}\")\n",
    "print(f\"sklearn AUC: {roc_auc_score(y_test, y_probs):.4f}\")"
   ]
  },
  {
   "cell_type": "code",
   "execution_count": null,
   "id": "6f8fe1cd-40ac-4bd4-9fd5-a42b306c5bae",
   "metadata": {
    "tags": []
   },
   "outputs": [],
   "source": [
    "from sklearn.metrics import classification_report, roc_auc_score\n",
    "\n",
    "# Predict probabilities\n",
    "y_probs = model.predict(X_test)\n",
    "\n",
    "# Convert probabilities to binary predictions\n",
    "y_pred = (y_probs > 0.5).astype(int)\n",
    "\n",
    "# Print classification report\n",
    "print(classification_report(y_test, y_pred, target_names=[\"Benign\", \"Malignant\"]))\n",
    "\n",
    "# Print AUC score\n",
    "auc = roc_auc_score(y_test, y_probs)\n",
    "print(f\"ROC AUC Score: {auc:.4f}\")"
   ]
  },
  {
   "cell_type": "code",
   "execution_count": null,
   "id": "af57e1e4-09b2-4565-b779-a5f897b6a19a",
   "metadata": {},
   "outputs": [],
   "source": [
    "from sklearn.metrics import classification_report, confusion_matrix, roc_auc_score, roc_curve\n",
    "import matplotlib.pyplot as plt\n",
    "\n",
    "y_pred_probs = model.predict(X_test).ravel()\n",
    "y_pred = (y_pred_probs > 0.5).astype(int)\n",
    "\n",
    "# Confusion Matrix\n",
    "print(confusion_matrix(y_test, y_pred))\n",
    "print(classification_report(y_test, y_pred))\n",
    "\n",
    "# ROC Curve\n",
    "fpr, tpr, _ = roc_curve(y_test, y_pred_probs)\n",
    "plt.plot(fpr, tpr, label=\"ROC Curve\")\n",
    "plt.xlabel(\"False Positive Rate\")\n",
    "plt.ylabel(\"True Positive Rate\")\n",
    "plt.title(\"ROC Curve\")\n",
    "plt.legend()\n",
    "plt.show()\n",
    "\n",
    "print(\"ROC AUC Score:\", roc_auc_score(y_test, y_pred_probs))"
   ]
  },
  {
   "cell_type": "code",
   "execution_count": null,
   "id": "de63d038-52f9-4083-93fb-4420ff73250c",
   "metadata": {},
   "outputs": [],
   "source": [
    "np.save(\"../data/cibs-ddsm/processed/X_test.npy\", X_test)\n",
    "np.save(\"../data/cibs-ddsm/processed/y_test.npy\", y_test)"
   ]
  },
  {
   "cell_type": "code",
   "execution_count": null,
   "id": "8f154305-b6a3-43d2-9da2-440d20c8fab5",
   "metadata": {},
   "outputs": [],
   "source": []
  }
 ],
 "metadata": {
  "kernelspec": {
   "display_name": "Python 3 (ipykernel)",
   "language": "python",
   "name": "python3"
  },
  "language_info": {
   "codemirror_mode": {
    "name": "ipython",
    "version": 3
   },
   "file_extension": ".py",
   "mimetype": "text/x-python",
   "name": "python",
   "nbconvert_exporter": "python",
   "pygments_lexer": "ipython3",
   "version": "3.11.5"
  }
 },
 "nbformat": 4,
 "nbformat_minor": 5
}
