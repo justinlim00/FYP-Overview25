{
 "cells": [
  {
   "cell_type": "markdown",
   "id": "93e6366c-84ca-43a4-91f5-ee80dc6c93ba",
   "metadata": {},
   "source": [
    "# Model Training"
   ]
  },
  {
   "cell_type": "markdown",
   "id": "7857bb42-ee62-4129-b9b1-d11d734b7e65",
   "metadata": {},
   "source": [
    "### Import Libraries & Load Metadata"
   ]
  },
  {
   "cell_type": "code",
   "execution_count": 8,
   "id": "5123400e-0149-49e1-a6e7-b4378ae2acd3",
   "metadata": {
    "tags": []
   },
   "outputs": [],
   "source": [
    "import pandas as pd\n",
    "import numpy as np\n",
    "from sklearn.model_selection import train_test_split\n",
    "from pathlib import Path\n",
    "import cv2\n",
    "from tensorflow.keras.utils import to_categorical"
   ]
  },
  {
   "cell_type": "code",
   "execution_count": 12,
   "id": "552023ae-f075-4dfd-9337-d9e269e47a08",
   "metadata": {
    "tags": []
   },
   "outputs": [],
   "source": [
    "meta_path = \"../data/cibs-ddsm/metadata/meta.csv\"\n",
    "df = pd.read_csv(meta_path)"
   ]
  },
  {
   "cell_type": "markdown",
   "id": "d41179b1-bee2-4d19-92f0-9d06a1a7aba2",
   "metadata": {},
   "source": [
    "### Load Images into Memory"
   ]
  },
  {
   "cell_type": "code",
   "execution_count": 13,
   "id": "a27e1487-43c5-4588-82a1-4e5efcb64ccf",
   "metadata": {
    "tags": []
   },
   "outputs": [],
   "source": [
    "def load_images(df, size=(224, 224)):\n",
    "    X, y = [], []\n",
    "    for _, row in df.iterrows():\n",
    "        img = cv2.imread(row[\"processed_path\"], cv2.IMREAD_GRAYSCALE)\n",
    "        if img is not None:\n",
    "            X.append(img)\n",
    "            y.append(row[\"label\"])\n",
    "    X = np.array(X)[..., np.newaxis] / 255.0  # Normalize to 0–1\n",
    "    y = np.array(y)\n",
    "    return X, y"
   ]
  },
  {
   "cell_type": "markdown",
   "id": "fe109842-7c95-42cf-b400-65457885f93e",
   "metadata": {},
   "source": [
    "### Split dataset"
   ]
  },
  {
   "cell_type": "code",
   "execution_count": 14,
   "id": "f6567497-f9b6-41ad-91d2-f1f655ae9dd1",
   "metadata": {
    "tags": []
   },
   "outputs": [],
   "source": [
    "train_df, test_df = train_test_split(df, test_size=0.2, stratify=df[\"label\"], random_state=42)\n",
    "X_train, y_train = load_images(train_df)\n",
    "X_test, y_test = load_images(test_df)"
   ]
  },
  {
   "cell_type": "markdown",
   "id": "e5f123d7-20a0-48de-affb-9438187cc870",
   "metadata": {},
   "source": [
    "### Build CNN Model with Augmentation"
   ]
  },
  {
   "cell_type": "code",
   "execution_count": 16,
   "id": "15440789-068d-41a4-a09d-309bdc7fd1fa",
   "metadata": {
    "tags": []
   },
   "outputs": [],
   "source": [
    "from tensorflow.keras.models import Sequential\n",
    "from tensorflow.keras.layers import (Input, Conv2D, MaxPooling2D, Flatten,\n",
    "                                     Dense, Dropout, RandomFlip,\n",
    "                                     RandomRotation, RandomZoom)\n",
    "\n",
    "model = Sequential([\n",
    "    Input(shape=(224, 224, 1)),  \n",
    "    RandomFlip(\"horizontal\"),\n",
    "    RandomRotation(0.1),\n",
    "    RandomZoom(0.1),\n",
    "    Conv2D(32, (3, 3), activation=\"relu\"),\n",
    "    MaxPooling2D(),\n",
    "    Conv2D(64, (3, 3), activation=\"relu\"),\n",
    "    MaxPooling2D(),\n",
    "    Flatten(),\n",
    "    Dense(128, activation=\"relu\"),\n",
    "    Dropout(0.5),\n",
    "    Dense(1, activation=\"sigmoid\")\n",
    "])"
   ]
  },
  {
   "cell_type": "code",
   "execution_count": 17,
   "id": "3d72f1f2-0ecb-4ada-89af-5f442be727db",
   "metadata": {
    "tags": []
   },
   "outputs": [],
   "source": [
    "model.compile(\n",
    "    optimizer=\"adam\",\n",
    "    loss=\"binary_crossentropy\",\n",
    "    metrics=[\"accuracy\"]\n",
    ")"
   ]
  },
  {
   "cell_type": "code",
   "execution_count": 18,
   "id": "a56c10a7-fc42-4278-bcd1-c47ced048723",
   "metadata": {
    "tags": []
   },
   "outputs": [
    {
     "name": "stdout",
     "output_type": "stream",
     "text": [
      "Epoch 1/10\n",
      "\u001b[1m72/72\u001b[0m \u001b[32m━━━━━━━━━━━━━━━━━━━━\u001b[0m\u001b[37m\u001b[0m \u001b[1m17s\u001b[0m 222ms/step - accuracy: 0.5420 - loss: 0.8956 - val_accuracy: 0.5849 - val_loss: 0.7625\n",
      "Epoch 2/10\n",
      "\u001b[1m72/72\u001b[0m \u001b[32m━━━━━━━━━━━━━━━━━━━━\u001b[0m\u001b[37m\u001b[0m \u001b[1m16s\u001b[0m 217ms/step - accuracy: 0.5842 - loss: 0.6943 - val_accuracy: 0.5849 - val_loss: 0.6794\n",
      "Epoch 3/10\n",
      "\u001b[1m72/72\u001b[0m \u001b[32m━━━━━━━━━━━━━━━━━━━━\u001b[0m\u001b[37m\u001b[0m \u001b[1m16s\u001b[0m 220ms/step - accuracy: 0.6019 - loss: 0.6769 - val_accuracy: 0.5849 - val_loss: 0.6811\n",
      "Epoch 4/10\n",
      "\u001b[1m72/72\u001b[0m \u001b[32m━━━━━━━━━━━━━━━━━━━━\u001b[0m\u001b[37m\u001b[0m \u001b[1m16s\u001b[0m 218ms/step - accuracy: 0.5940 - loss: 0.6795 - val_accuracy: 0.5849 - val_loss: 0.6791\n",
      "Epoch 5/10\n",
      "\u001b[1m72/72\u001b[0m \u001b[32m━━━━━━━━━━━━━━━━━━━━\u001b[0m\u001b[37m\u001b[0m \u001b[1m16s\u001b[0m 220ms/step - accuracy: 0.5970 - loss: 0.6765 - val_accuracy: 0.5849 - val_loss: 0.6783\n",
      "Epoch 6/10\n",
      "\u001b[1m72/72\u001b[0m \u001b[32m━━━━━━━━━━━━━━━━━━━━\u001b[0m\u001b[37m\u001b[0m \u001b[1m16s\u001b[0m 218ms/step - accuracy: 0.6002 - loss: 0.6745 - val_accuracy: 0.5849 - val_loss: 0.6791\n",
      "Epoch 7/10\n",
      "\u001b[1m72/72\u001b[0m \u001b[32m━━━━━━━━━━━━━━━━━━━━\u001b[0m\u001b[37m\u001b[0m \u001b[1m16s\u001b[0m 219ms/step - accuracy: 0.5890 - loss: 0.6782 - val_accuracy: 0.5849 - val_loss: 0.6784\n",
      "Epoch 8/10\n",
      "\u001b[1m72/72\u001b[0m \u001b[32m━━━━━━━━━━━━━━━━━━━━\u001b[0m\u001b[37m\u001b[0m \u001b[1m16s\u001b[0m 218ms/step - accuracy: 0.5963 - loss: 0.6757 - val_accuracy: 0.5849 - val_loss: 0.6786\n",
      "Epoch 9/10\n",
      "\u001b[1m72/72\u001b[0m \u001b[32m━━━━━━━━━━━━━━━━━━━━\u001b[0m\u001b[37m\u001b[0m \u001b[1m16s\u001b[0m 219ms/step - accuracy: 0.5933 - loss: 0.6787 - val_accuracy: 0.5849 - val_loss: 0.6788\n",
      "Epoch 10/10\n",
      "\u001b[1m72/72\u001b[0m \u001b[32m━━━━━━━━━━━━━━━━━━━━\u001b[0m\u001b[37m\u001b[0m \u001b[1m16s\u001b[0m 222ms/step - accuracy: 0.5922 - loss: 0.6772 - val_accuracy: 0.5849 - val_loss: 0.6802\n"
     ]
    }
   ],
   "source": [
    "history = model.fit(\n",
    "    X_train, y_train,\n",
    "    validation_split=0.2,\n",
    "    epochs=10,\n",
    "    batch_size=32\n",
    ")"
   ]
  },
  {
   "cell_type": "code",
   "execution_count": 19,
   "id": "6e25e2af-d8f1-487d-abbc-11a8da48ec62",
   "metadata": {
    "tags": []
   },
   "outputs": [
    {
     "name": "stdout",
     "output_type": "stream",
     "text": [
      "\u001b[1m23/23\u001b[0m \u001b[32m━━━━━━━━━━━━━━━━━━━━\u001b[0m\u001b[37m\u001b[0m \u001b[1m1s\u001b[0m 47ms/step - accuracy: 0.5922 - loss: 0.6780\n"
     ]
    },
    {
     "name": "stderr",
     "output_type": "stream",
     "text": [
      "WARNING:absl:You are saving your model as an HDF5 file via `model.save()` or `keras.saving.save_model(model)`. This file format is considered legacy. We recommend using instead the native Keras format, e.g. `model.save('my_model.keras')` or `keras.saving.save_model(model, 'my_model.keras')`. \n"
     ]
    },
    {
     "name": "stdout",
     "output_type": "stream",
     "text": [
      "Test Accuracy: 0.5910\n"
     ]
    }
   ],
   "source": [
    "test_loss, test_acc = model.evaluate(X_test, y_test)\n",
    "print(f\"Test Accuracy: {test_acc:.4f}\")\n",
    "model.save(\"../results/model_weights/final_model.h5\")"
   ]
  },
  {
   "cell_type": "code",
   "execution_count": 20,
   "id": "efcdd5b0-0818-4672-a0c9-5d0e5c984504",
   "metadata": {
    "tags": []
   },
   "outputs": [
    {
     "name": "stdout",
     "output_type": "stream",
     "text": [
      "\u001b[1m23/23\u001b[0m \u001b[32m━━━━━━━━━━━━━━━━━━━━\u001b[0m\u001b[37m\u001b[0m \u001b[1m1s\u001b[0m 47ms/step\n",
      "              precision    recall  f1-score   support\n",
      "\n",
      "      Benign       0.59      1.00      0.74       422\n",
      "   Malignant       0.00      0.00      0.00       292\n",
      "\n",
      "    accuracy                           0.59       714\n",
      "   macro avg       0.30      0.50      0.37       714\n",
      "weighted avg       0.35      0.59      0.44       714\n",
      "\n",
      "ROC AUC Score: 0.5360\n"
     ]
    },
    {
     "name": "stderr",
     "output_type": "stream",
     "text": [
      "/Users/justinlim/anaconda3/lib/python3.11/site-packages/sklearn/metrics/_classification.py:1565: UndefinedMetricWarning: Precision is ill-defined and being set to 0.0 in labels with no predicted samples. Use `zero_division` parameter to control this behavior.\n",
      "  _warn_prf(average, modifier, f\"{metric.capitalize()} is\", len(result))\n",
      "/Users/justinlim/anaconda3/lib/python3.11/site-packages/sklearn/metrics/_classification.py:1565: UndefinedMetricWarning: Precision is ill-defined and being set to 0.0 in labels with no predicted samples. Use `zero_division` parameter to control this behavior.\n",
      "  _warn_prf(average, modifier, f\"{metric.capitalize()} is\", len(result))\n",
      "/Users/justinlim/anaconda3/lib/python3.11/site-packages/sklearn/metrics/_classification.py:1565: UndefinedMetricWarning: Precision is ill-defined and being set to 0.0 in labels with no predicted samples. Use `zero_division` parameter to control this behavior.\n",
      "  _warn_prf(average, modifier, f\"{metric.capitalize()} is\", len(result))\n"
     ]
    }
   ],
   "source": [
    "from sklearn.metrics import classification_report, roc_auc_score\n",
    "import numpy as np\n",
    "\n",
    "# Get predicted probabilities\n",
    "y_probs = model.predict(X_test)\n",
    "\n",
    "# Convert probabilities to binary predictions\n",
    "y_pred = (y_probs > 0.5).astype(int)\n",
    "\n",
    "# 1. Classification report: precision, recall, f1-score, accuracy\n",
    "print(classification_report(y_test, y_pred, target_names=[\"Benign\", \"Malignant\"]))\n",
    "\n",
    "# 2. ROC-AUC score (based on raw probabilities, not thresholded)\n",
    "auc = roc_auc_score(y_test, y_probs)\n",
    "print(f\"ROC AUC Score: {auc:.4f}\")"
   ]
  },
  {
   "cell_type": "code",
   "execution_count": null,
   "id": "af57e1e4-09b2-4565-b779-a5f897b6a19a",
   "metadata": {},
   "outputs": [],
   "source": []
  }
 ],
 "metadata": {
  "kernelspec": {
   "display_name": "Python 3 (ipykernel)",
   "language": "python",
   "name": "python3"
  },
  "language_info": {
   "codemirror_mode": {
    "name": "ipython",
    "version": 3
   },
   "file_extension": ".py",
   "mimetype": "text/x-python",
   "name": "python",
   "nbconvert_exporter": "python",
   "pygments_lexer": "ipython3",
   "version": "3.11.5"
  }
 },
 "nbformat": 4,
 "nbformat_minor": 5
}
