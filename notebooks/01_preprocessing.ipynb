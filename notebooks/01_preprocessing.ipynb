{
 "cells": [
  {
   "cell_type": "code",
   "execution_count": 7,
   "id": "76b144cc-d9f3-48df-b0cd-b6f62338bc7c",
   "metadata": {
    "tags": []
   },
   "outputs": [],
   "source": [
    "# Setup path and import\n",
    "import sys\n",
    "from pathlib import Path\n",
    "sys.path.append(str(Path().resolve().parent))  \n",
    "\n",
    "from src.preprocessing import preprocess_image\n",
    "import pandas as pd\n",
    "from tqdm import tqdm"
   ]
  },
  {
   "cell_type": "markdown",
   "id": "313a26a3-ef18-45b9-9f48-6567ecfab255",
   "metadata": {},
   "source": [
    "\n",
    "Generate labels.csv from CBIS-DDSM metadata\n",
    "\n",
    "This script consolidates and standardizes metadata from the CBIS-DDSM dataset.\n",
    "It merges mass and calcification case files (train and test sets), encodes the\n",
    "'pathology' column into binary labels (0 = BENIGN, 1 = MALIGNANT), and constructs\n",
    "full relative paths to the JPEG image files. It also renames selected columns for\n",
    "consistency and exports a clean metadata CSV for use in preprocessing and model training.\n",
    "\n",
    "Output:\n",
    "    data/cibs-ddsm/metadata/labels.csv\n",
    "\n",
    "Expected Downstream Use:\n",
    "    - Used in 01_preprocessing.ipynb to locate, enhance, and resize mammograms\n",
    "    - Used to associate labels and metadata with image files for CNN training"
   ]
  },
  {
   "cell_type": "code",
   "execution_count": 28,
   "id": "8104541a-1ad9-43a5-a3aa-b42bc26a7d65",
   "metadata": {
    "tags": []
   },
   "outputs": [
    {
     "name": "stdout",
     "output_type": "stream",
     "text": [
      "✅ labels.csv created at: ../data/cibs-ddsm/metadata/labels.csv\n"
     ]
    }
   ],
   "source": [
    "import pandas as pd\n",
    "from pathlib import Path\n",
    "\n",
    "meta_dir = Path(\"../data/cibs-ddsm/metadata\")\n",
    "output_path = meta_dir / \"labels.csv\"\n",
    "\n",
    "# Load files\n",
    "mass_train = pd.read_csv(meta_dir / \"mass_case_description_train_set.csv\")\n",
    "mass_test = pd.read_csv(meta_dir / \"mass_case_description_test_set.csv\")\n",
    "calc_train = pd.read_csv(meta_dir / \"calc_case_description_train_set.csv\")\n",
    "calc_test = pd.read_csv(meta_dir / \"calc_case_description_test_set.csv\")\n",
    "\n",
    "# Merge all\n",
    "df = pd.concat([mass_train, mass_test, calc_train, calc_test], ignore_index=True)\n",
    "\n",
    "# Label encoding\n",
    "df[\"label\"] = df[\"pathology\"].map(lambda x: 1 if x == \"MALIGNANT\" else 0)\n",
    "\n",
    "# Build image path\n",
    "df[\"image_file_path\"] = \"jpeg/\" + df[\"patient_id\"] + \"/\" + df[\"image file path\"]\n",
    "\n",
    "# Rename columns for consistency\n",
    "df = df.rename(columns={\n",
    "    \"abnormality type\": \"abnormality_type\",\n",
    "    \"image view\": \"view\",\n",
    "    \"left or right breast\": \"laterality\"\n",
    "})\n",
    "\n",
    "# Final column selection\n",
    "df_final = df[[\"image_file_path\", \"label\", \"abnormality_type\", \"view\", \"laterality\", \"patient_id\"]]\n",
    "df_final.to_csv(output_path, index=False)\n",
    "\n",
    "print(f\"✅ labels.csv created at: {output_path}\")"
   ]
  },
  {
   "cell_type": "code",
   "execution_count": null,
   "id": "e28cfa71-7707-4b2c-ade1-e36300453d8d",
   "metadata": {},
   "outputs": [],
   "source": []
  }
 ],
 "metadata": {
  "kernelspec": {
   "display_name": "Python 3 (ipykernel)",
   "language": "python",
   "name": "python3"
  },
  "language_info": {
   "codemirror_mode": {
    "name": "ipython",
    "version": 3
   },
   "file_extension": ".py",
   "mimetype": "text/x-python",
   "name": "python",
   "nbconvert_exporter": "python",
   "pygments_lexer": "ipython3",
   "version": "3.11.5"
  }
 },
 "nbformat": 4,
 "nbformat_minor": 5
}
